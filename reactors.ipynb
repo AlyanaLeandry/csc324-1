{
 "cells": [
  {
   "cell_type": "markdown",
   "id": "fifteen-compound",
   "metadata": {},
   "source": [
    "# Data Cleaning with Pandas"
   ]
  },
  {
   "cell_type": "markdown",
   "id": "nonprofit-three",
   "metadata": {},
   "source": [
    "### Importing libraries"
   ]
  },
  {
   "cell_type": "code",
   "execution_count": 1,
   "id": "sharing-watershed",
   "metadata": {},
   "outputs": [],
   "source": [
    "import pandas as pd\n",
    "import numpy as np\n",
    "import matplotlib as mpl"
   ]
  },
  {
   "cell_type": "markdown",
   "id": "streaming-gasoline",
   "metadata": {},
   "source": [
    "### Reading a csv file from the working directory."
   ]
  },
  {
   "cell_type": "code",
   "execution_count": 2,
   "id": "geological-finland",
   "metadata": {},
   "outputs": [],
   "source": [
    "reactors=pd.read_csv(\"reactors.csv\")"
   ]
  },
  {
   "cell_type": "markdown",
   "id": "functioning-insight",
   "metadata": {},
   "source": [
    "### Displaying the first few lines."
   ]
  },
  {
   "cell_type": "code",
   "execution_count": 3,
   "id": "major-coupon",
   "metadata": {
    "scrolled": true
   },
   "outputs": [
    {
     "data": {
      "text/html": [
       "<div>\n",
       "<style scoped>\n",
       "    .dataframe tbody tr th:only-of-type {\n",
       "        vertical-align: middle;\n",
       "    }\n",
       "\n",
       "    .dataframe tbody tr th {\n",
       "        vertical-align: top;\n",
       "    }\n",
       "\n",
       "    .dataframe thead th {\n",
       "        text-align: right;\n",
       "    }\n",
       "</style>\n",
       "<table border=\"1\" class=\"dataframe\">\n",
       "  <thead>\n",
       "    <tr style=\"text-align: right;\">\n",
       "      <th></th>\n",
       "      <th>url</th>\n",
       "      <th>Name</th>\n",
       "      <th>Name_link</th>\n",
       "      <th>Country</th>\n",
       "      <th>Capacity</th>\n",
       "      <th>Status</th>\n",
       "      <th>Type</th>\n",
       "      <th>Owner</th>\n",
       "      <th>Operator</th>\n",
       "      <th>Connection</th>\n",
       "    </tr>\n",
       "  </thead>\n",
       "  <tbody>\n",
       "    <tr>\n",
       "      <th>0</th>\n",
       "      <td>http://www.world-nuclear.org/information-libra...</td>\n",
       "      <td>Agesta</td>\n",
       "      <td>http://www.world-nuclear.org/reactor/default.a...</td>\n",
       "      <td>Sweden</td>\n",
       "      <td>10 MWe</td>\n",
       "      <td>PERMANENT SHUTDOWN</td>\n",
       "      <td>Pressurized Heavy Water Reactor</td>\n",
       "      <td>Barsebäck Kraft AB</td>\n",
       "      <td>Barsebäck Kraft AB</td>\n",
       "      <td>1 May 1964</td>\n",
       "    </tr>\n",
       "    <tr>\n",
       "      <th>1</th>\n",
       "      <td>http://www.world-nuclear.org/information-libra...</td>\n",
       "      <td>Akademik Lomonosov 1</td>\n",
       "      <td>http://www.world-nuclear.org/reactor/default.a...</td>\n",
       "      <td>Russia</td>\n",
       "      <td>32 MWe</td>\n",
       "      <td>UNDER CONSTRUCTION</td>\n",
       "      <td>Pressurised Water Reactor</td>\n",
       "      <td>Joint Stock Company 'Concern Rosenergoatom'</td>\n",
       "      <td>Joint Stock Company 'Concern Rosenergoatom'</td>\n",
       "      <td>NaN</td>\n",
       "    </tr>\n",
       "    <tr>\n",
       "      <th>2</th>\n",
       "      <td>http://www.world-nuclear.org/information-libra...</td>\n",
       "      <td>Akademik Lomonosov 2</td>\n",
       "      <td>http://www.world-nuclear.org/reactor/default.a...</td>\n",
       "      <td>Russia</td>\n",
       "      <td>32 MWe</td>\n",
       "      <td>UNDER CONSTRUCTION</td>\n",
       "      <td>Pressurised Water Reactor</td>\n",
       "      <td>Joint Stock Company 'Concern Rosenergoatom'</td>\n",
       "      <td>Joint Stock Company 'Concern Rosenergoatom'</td>\n",
       "      <td>NaN</td>\n",
       "    </tr>\n",
       "    <tr>\n",
       "      <th>3</th>\n",
       "      <td>http://www.world-nuclear.org/information-libra...</td>\n",
       "      <td>Aktau</td>\n",
       "      <td>http://www.world-nuclear.org/reactor/default.a...</td>\n",
       "      <td>Kazakhstan</td>\n",
       "      <td>52 MWe</td>\n",
       "      <td>PERMANENT SHUTDOWN</td>\n",
       "      <td>Fast Reactor</td>\n",
       "      <td>Joint Stock Company \"National Atomic Company K...</td>\n",
       "      <td>Mangishlak Atomic Energy Complex-Kazatomprom,L...</td>\n",
       "      <td>16 July 1973</td>\n",
       "    </tr>\n",
       "    <tr>\n",
       "      <th>4</th>\n",
       "      <td>http://www.world-nuclear.org/information-libra...</td>\n",
       "      <td>Almaraz 1</td>\n",
       "      <td>http://www.world-nuclear.org/reactor/default.a...</td>\n",
       "      <td>Spain</td>\n",
       "      <td>1011 MWe</td>\n",
       "      <td>OPERABLE</td>\n",
       "      <td>Pressurised Water Reactor</td>\n",
       "      <td>Iberdrola, Endesa, Gas Natural</td>\n",
       "      <td>Centrales Nucleares Almaraz-Trillo(Id/Ufg/Ende...</td>\n",
       "      <td>1 May 1981</td>\n",
       "    </tr>\n",
       "  </tbody>\n",
       "</table>\n",
       "</div>"
      ],
      "text/plain": [
       "                                                 url                  Name  \\\n",
       "0  http://www.world-nuclear.org/information-libra...                Agesta   \n",
       "1  http://www.world-nuclear.org/information-libra...  Akademik Lomonosov 1   \n",
       "2  http://www.world-nuclear.org/information-libra...  Akademik Lomonosov 2   \n",
       "3  http://www.world-nuclear.org/information-libra...                 Aktau   \n",
       "4  http://www.world-nuclear.org/information-libra...             Almaraz 1   \n",
       "\n",
       "                                           Name_link     Country  Capacity  \\\n",
       "0  http://www.world-nuclear.org/reactor/default.a...      Sweden    10 MWe   \n",
       "1  http://www.world-nuclear.org/reactor/default.a...      Russia    32 MWe   \n",
       "2  http://www.world-nuclear.org/reactor/default.a...      Russia    32 MWe   \n",
       "3  http://www.world-nuclear.org/reactor/default.a...  Kazakhstan    52 MWe   \n",
       "4  http://www.world-nuclear.org/reactor/default.a...       Spain  1011 MWe   \n",
       "\n",
       "               Status                             Type  \\\n",
       "0  PERMANENT SHUTDOWN  Pressurized Heavy Water Reactor   \n",
       "1  UNDER CONSTRUCTION        Pressurised Water Reactor   \n",
       "2  UNDER CONSTRUCTION        Pressurised Water Reactor   \n",
       "3  PERMANENT SHUTDOWN                     Fast Reactor   \n",
       "4            OPERABLE        Pressurised Water Reactor   \n",
       "\n",
       "                                               Owner  \\\n",
       "0                                 Barsebäck Kraft AB   \n",
       "1        Joint Stock Company 'Concern Rosenergoatom'   \n",
       "2        Joint Stock Company 'Concern Rosenergoatom'   \n",
       "3  Joint Stock Company \"National Atomic Company K...   \n",
       "4                     Iberdrola, Endesa, Gas Natural   \n",
       "\n",
       "                                            Operator    Connection  \n",
       "0                                 Barsebäck Kraft AB    1 May 1964  \n",
       "1        Joint Stock Company 'Concern Rosenergoatom'           NaN  \n",
       "2        Joint Stock Company 'Concern Rosenergoatom'           NaN  \n",
       "3  Mangishlak Atomic Energy Complex-Kazatomprom,L...  16 July 1973  \n",
       "4  Centrales Nucleares Almaraz-Trillo(Id/Ufg/Ende...    1 May 1981  "
      ]
     },
     "execution_count": 3,
     "metadata": {},
     "output_type": "execute_result"
    }
   ],
   "source": [
    "reactors.head()"
   ]
  },
  {
   "cell_type": "markdown",
   "id": "directed-roads",
   "metadata": {},
   "source": [
    "### Displaying basic file statistics"
   ]
  },
  {
   "cell_type": "code",
   "execution_count": 4,
   "id": "raised-arkansas",
   "metadata": {},
   "outputs": [
    {
     "data": {
      "text/html": [
       "<div>\n",
       "<style scoped>\n",
       "    .dataframe tbody tr th:only-of-type {\n",
       "        vertical-align: middle;\n",
       "    }\n",
       "\n",
       "    .dataframe tbody tr th {\n",
       "        vertical-align: top;\n",
       "    }\n",
       "\n",
       "    .dataframe thead th {\n",
       "        text-align: right;\n",
       "    }\n",
       "</style>\n",
       "<table border=\"1\" class=\"dataframe\">\n",
       "  <thead>\n",
       "    <tr style=\"text-align: right;\">\n",
       "      <th></th>\n",
       "      <th>url</th>\n",
       "      <th>Name</th>\n",
       "      <th>Name_link</th>\n",
       "      <th>Country</th>\n",
       "      <th>Capacity</th>\n",
       "      <th>Status</th>\n",
       "      <th>Type</th>\n",
       "      <th>Owner</th>\n",
       "      <th>Operator</th>\n",
       "      <th>Connection</th>\n",
       "    </tr>\n",
       "  </thead>\n",
       "  <tbody>\n",
       "    <tr>\n",
       "      <th>count</th>\n",
       "      <td>671</td>\n",
       "      <td>671</td>\n",
       "      <td>671</td>\n",
       "      <td>671</td>\n",
       "      <td>671</td>\n",
       "      <td>671</td>\n",
       "      <td>671</td>\n",
       "      <td>658</td>\n",
       "      <td>671</td>\n",
       "      <td>610</td>\n",
       "    </tr>\n",
       "    <tr>\n",
       "      <th>unique</th>\n",
       "      <td>1</td>\n",
       "      <td>671</td>\n",
       "      <td>671</td>\n",
       "      <td>40</td>\n",
       "      <td>321</td>\n",
       "      <td>6</td>\n",
       "      <td>12</td>\n",
       "      <td>172</td>\n",
       "      <td>158</td>\n",
       "      <td>595</td>\n",
       "    </tr>\n",
       "    <tr>\n",
       "      <th>top</th>\n",
       "      <td>http://www.world-nuclear.org/information-libra...</td>\n",
       "      <td>Ningde 4</td>\n",
       "      <td>http://www.world-nuclear.org/reactor/default.a...</td>\n",
       "      <td>United States Of America</td>\n",
       "      <td>950 MWe</td>\n",
       "      <td>OPERABLE</td>\n",
       "      <td>Pressurised Water Reactor</td>\n",
       "      <td>EDF</td>\n",
       "      <td>EDF</td>\n",
       "      <td>9 May 1984</td>\n",
       "    </tr>\n",
       "    <tr>\n",
       "      <th>freq</th>\n",
       "      <td>671</td>\n",
       "      <td>1</td>\n",
       "      <td>1</td>\n",
       "      <td>131</td>\n",
       "      <td>28</td>\n",
       "      <td>447</td>\n",
       "      <td>389</td>\n",
       "      <td>68</td>\n",
       "      <td>67</td>\n",
       "      <td>3</td>\n",
       "    </tr>\n",
       "  </tbody>\n",
       "</table>\n",
       "</div>"
      ],
      "text/plain": [
       "                                                      url      Name  \\\n",
       "count                                                 671       671   \n",
       "unique                                                  1       671   \n",
       "top     http://www.world-nuclear.org/information-libra...  Ningde 4   \n",
       "freq                                                  671         1   \n",
       "\n",
       "                                                Name_link  \\\n",
       "count                                                 671   \n",
       "unique                                                671   \n",
       "top     http://www.world-nuclear.org/reactor/default.a...   \n",
       "freq                                                    1   \n",
       "\n",
       "                         Country Capacity    Status  \\\n",
       "count                        671      671       671   \n",
       "unique                        40      321         6   \n",
       "top     United States Of America  950 MWe  OPERABLE   \n",
       "freq                         131       28       447   \n",
       "\n",
       "                             Type Owner Operator  Connection  \n",
       "count                         671   658      671         610  \n",
       "unique                         12   172      158         595  \n",
       "top     Pressurised Water Reactor   EDF      EDF  9 May 1984  \n",
       "freq                          389    68       67           3  "
      ]
     },
     "execution_count": 4,
     "metadata": {},
     "output_type": "execute_result"
    }
   ],
   "source": [
    "reactors.describe()"
   ]
  },
  {
   "cell_type": "markdown",
   "id": "greek-circle",
   "metadata": {},
   "source": [
    "### Displaying unique values."
   ]
  },
  {
   "cell_type": "code",
   "execution_count": 5,
   "id": "occupied-system",
   "metadata": {
    "scrolled": true
   },
   "outputs": [
    {
     "data": {
      "text/plain": [
       "array(['http://www.world-nuclear.org/information-library/facts-and-figures/reactor-database.aspx?source=%7B%22query%22%3A%7B%22match_all%22%3A%7B%7D%7D%2C%22size%22%3A%22700%22%2C%22sort%22%3A%5B%7B%22index.sort_name.exact%22%3A%7B%22order%22%3A%22asc%22%7D%7D%5D%7D'],\n",
       "      dtype=object)"
      ]
     },
     "execution_count": 5,
     "metadata": {},
     "output_type": "execute_result"
    }
   ],
   "source": [
    "reactors['url'].unique()"
   ]
  },
  {
   "cell_type": "markdown",
   "id": "juvenile-connectivity",
   "metadata": {},
   "source": [
    "### Deleting a column"
   ]
  },
  {
   "cell_type": "code",
   "execution_count": 6,
   "id": "stuck-brave",
   "metadata": {},
   "outputs": [
    {
     "data": {
      "text/html": [
       "<div>\n",
       "<style scoped>\n",
       "    .dataframe tbody tr th:only-of-type {\n",
       "        vertical-align: middle;\n",
       "    }\n",
       "\n",
       "    .dataframe tbody tr th {\n",
       "        vertical-align: top;\n",
       "    }\n",
       "\n",
       "    .dataframe thead th {\n",
       "        text-align: right;\n",
       "    }\n",
       "</style>\n",
       "<table border=\"1\" class=\"dataframe\">\n",
       "  <thead>\n",
       "    <tr style=\"text-align: right;\">\n",
       "      <th></th>\n",
       "      <th>Name</th>\n",
       "      <th>Name_link</th>\n",
       "      <th>Country</th>\n",
       "      <th>Capacity</th>\n",
       "      <th>Status</th>\n",
       "      <th>Type</th>\n",
       "      <th>Owner</th>\n",
       "      <th>Operator</th>\n",
       "      <th>Connection</th>\n",
       "    </tr>\n",
       "  </thead>\n",
       "  <tbody>\n",
       "    <tr>\n",
       "      <th>0</th>\n",
       "      <td>Agesta</td>\n",
       "      <td>http://www.world-nuclear.org/reactor/default.a...</td>\n",
       "      <td>Sweden</td>\n",
       "      <td>10 MWe</td>\n",
       "      <td>PERMANENT SHUTDOWN</td>\n",
       "      <td>Pressurized Heavy Water Reactor</td>\n",
       "      <td>Barsebäck Kraft AB</td>\n",
       "      <td>Barsebäck Kraft AB</td>\n",
       "      <td>1 May 1964</td>\n",
       "    </tr>\n",
       "    <tr>\n",
       "      <th>1</th>\n",
       "      <td>Akademik Lomonosov 1</td>\n",
       "      <td>http://www.world-nuclear.org/reactor/default.a...</td>\n",
       "      <td>Russia</td>\n",
       "      <td>32 MWe</td>\n",
       "      <td>UNDER CONSTRUCTION</td>\n",
       "      <td>Pressurised Water Reactor</td>\n",
       "      <td>Joint Stock Company 'Concern Rosenergoatom'</td>\n",
       "      <td>Joint Stock Company 'Concern Rosenergoatom'</td>\n",
       "      <td>NaN</td>\n",
       "    </tr>\n",
       "    <tr>\n",
       "      <th>2</th>\n",
       "      <td>Akademik Lomonosov 2</td>\n",
       "      <td>http://www.world-nuclear.org/reactor/default.a...</td>\n",
       "      <td>Russia</td>\n",
       "      <td>32 MWe</td>\n",
       "      <td>UNDER CONSTRUCTION</td>\n",
       "      <td>Pressurised Water Reactor</td>\n",
       "      <td>Joint Stock Company 'Concern Rosenergoatom'</td>\n",
       "      <td>Joint Stock Company 'Concern Rosenergoatom'</td>\n",
       "      <td>NaN</td>\n",
       "    </tr>\n",
       "    <tr>\n",
       "      <th>3</th>\n",
       "      <td>Aktau</td>\n",
       "      <td>http://www.world-nuclear.org/reactor/default.a...</td>\n",
       "      <td>Kazakhstan</td>\n",
       "      <td>52 MWe</td>\n",
       "      <td>PERMANENT SHUTDOWN</td>\n",
       "      <td>Fast Reactor</td>\n",
       "      <td>Joint Stock Company \"National Atomic Company K...</td>\n",
       "      <td>Mangishlak Atomic Energy Complex-Kazatomprom,L...</td>\n",
       "      <td>16 July 1973</td>\n",
       "    </tr>\n",
       "    <tr>\n",
       "      <th>4</th>\n",
       "      <td>Almaraz 1</td>\n",
       "      <td>http://www.world-nuclear.org/reactor/default.a...</td>\n",
       "      <td>Spain</td>\n",
       "      <td>1011 MWe</td>\n",
       "      <td>OPERABLE</td>\n",
       "      <td>Pressurised Water Reactor</td>\n",
       "      <td>Iberdrola, Endesa, Gas Natural</td>\n",
       "      <td>Centrales Nucleares Almaraz-Trillo(Id/Ufg/Ende...</td>\n",
       "      <td>1 May 1981</td>\n",
       "    </tr>\n",
       "  </tbody>\n",
       "</table>\n",
       "</div>"
      ],
      "text/plain": [
       "                   Name                                          Name_link  \\\n",
       "0                Agesta  http://www.world-nuclear.org/reactor/default.a...   \n",
       "1  Akademik Lomonosov 1  http://www.world-nuclear.org/reactor/default.a...   \n",
       "2  Akademik Lomonosov 2  http://www.world-nuclear.org/reactor/default.a...   \n",
       "3                 Aktau  http://www.world-nuclear.org/reactor/default.a...   \n",
       "4             Almaraz 1  http://www.world-nuclear.org/reactor/default.a...   \n",
       "\n",
       "      Country  Capacity              Status                             Type  \\\n",
       "0      Sweden    10 MWe  PERMANENT SHUTDOWN  Pressurized Heavy Water Reactor   \n",
       "1      Russia    32 MWe  UNDER CONSTRUCTION        Pressurised Water Reactor   \n",
       "2      Russia    32 MWe  UNDER CONSTRUCTION        Pressurised Water Reactor   \n",
       "3  Kazakhstan    52 MWe  PERMANENT SHUTDOWN                     Fast Reactor   \n",
       "4       Spain  1011 MWe            OPERABLE        Pressurised Water Reactor   \n",
       "\n",
       "                                               Owner  \\\n",
       "0                                 Barsebäck Kraft AB   \n",
       "1        Joint Stock Company 'Concern Rosenergoatom'   \n",
       "2        Joint Stock Company 'Concern Rosenergoatom'   \n",
       "3  Joint Stock Company \"National Atomic Company K...   \n",
       "4                     Iberdrola, Endesa, Gas Natural   \n",
       "\n",
       "                                            Operator    Connection  \n",
       "0                                 Barsebäck Kraft AB    1 May 1964  \n",
       "1        Joint Stock Company 'Concern Rosenergoatom'           NaN  \n",
       "2        Joint Stock Company 'Concern Rosenergoatom'           NaN  \n",
       "3  Mangishlak Atomic Energy Complex-Kazatomprom,L...  16 July 1973  \n",
       "4  Centrales Nucleares Almaraz-Trillo(Id/Ufg/Ende...    1 May 1981  "
      ]
     },
     "execution_count": 6,
     "metadata": {},
     "output_type": "execute_result"
    }
   ],
   "source": [
    "reactors.drop(columns = \"url\", inplace = True)\n",
    "reactors.head()"
   ]
  },
  {
   "cell_type": "markdown",
   "id": "assured-block",
   "metadata": {},
   "source": [
    "### Sorting the values of a column"
   ]
  },
  {
   "cell_type": "code",
   "execution_count": 7,
   "id": "valid-norway",
   "metadata": {},
   "outputs": [
    {
     "data": {
      "text/html": [
       "<div>\n",
       "<style scoped>\n",
       "    .dataframe tbody tr th:only-of-type {\n",
       "        vertical-align: middle;\n",
       "    }\n",
       "\n",
       "    .dataframe tbody tr th {\n",
       "        vertical-align: top;\n",
       "    }\n",
       "\n",
       "    .dataframe thead th {\n",
       "        text-align: right;\n",
       "    }\n",
       "</style>\n",
       "<table border=\"1\" class=\"dataframe\">\n",
       "  <thead>\n",
       "    <tr style=\"text-align: right;\">\n",
       "      <th></th>\n",
       "      <th>Name</th>\n",
       "      <th>Name_link</th>\n",
       "      <th>Country</th>\n",
       "      <th>Capacity</th>\n",
       "      <th>Status</th>\n",
       "      <th>Type</th>\n",
       "      <th>Owner</th>\n",
       "      <th>Operator</th>\n",
       "      <th>Connection</th>\n",
       "    </tr>\n",
       "  </thead>\n",
       "  <tbody>\n",
       "    <tr>\n",
       "      <th>1</th>\n",
       "      <td>Akademik Lomonosov 1</td>\n",
       "      <td>http://www.world-nuclear.org/reactor/default.a...</td>\n",
       "      <td>Russia</td>\n",
       "      <td>32 MWe</td>\n",
       "      <td>UNDER CONSTRUCTION</td>\n",
       "      <td>Pressurised Water Reactor</td>\n",
       "      <td>Joint Stock Company 'Concern Rosenergoatom'</td>\n",
       "      <td>Joint Stock Company 'Concern Rosenergoatom'</td>\n",
       "      <td>NaN</td>\n",
       "    </tr>\n",
       "    <tr>\n",
       "      <th>2</th>\n",
       "      <td>Akademik Lomonosov 2</td>\n",
       "      <td>http://www.world-nuclear.org/reactor/default.a...</td>\n",
       "      <td>Russia</td>\n",
       "      <td>32 MWe</td>\n",
       "      <td>UNDER CONSTRUCTION</td>\n",
       "      <td>Pressurised Water Reactor</td>\n",
       "      <td>Joint Stock Company 'Concern Rosenergoatom'</td>\n",
       "      <td>Joint Stock Company 'Concern Rosenergoatom'</td>\n",
       "      <td>NaN</td>\n",
       "    </tr>\n",
       "    <tr>\n",
       "      <th>8</th>\n",
       "      <td>Angra 3</td>\n",
       "      <td>http://www.world-nuclear.org/reactor/default.a...</td>\n",
       "      <td>Brazil</td>\n",
       "      <td>1245 MWe</td>\n",
       "      <td>UNDER CONSTRUCTION</td>\n",
       "      <td>Pressurised Water Reactor</td>\n",
       "      <td>Eletrobras Eletronuclear S.A.</td>\n",
       "      <td>Eletrobras Eletronuclear S.A.</td>\n",
       "      <td>NaN</td>\n",
       "    </tr>\n",
       "    <tr>\n",
       "      <th>23</th>\n",
       "      <td>Baltic 1</td>\n",
       "      <td>http://www.world-nuclear.org/reactor/default.a...</td>\n",
       "      <td>Russia</td>\n",
       "      <td>1109 MWe</td>\n",
       "      <td>UNDER CONSTRUCTION</td>\n",
       "      <td>Pressurised Water Reactor</td>\n",
       "      <td>Joint Stock Company 'Concern Rosenergoatom'</td>\n",
       "      <td>Joint Stock Company 'Concern Rosenergoatom'</td>\n",
       "      <td>NaN</td>\n",
       "    </tr>\n",
       "    <tr>\n",
       "      <th>24</th>\n",
       "      <td>Barakah 1</td>\n",
       "      <td>http://www.world-nuclear.org/reactor/default.a...</td>\n",
       "      <td>United Arab Emirates</td>\n",
       "      <td>1345 MWe</td>\n",
       "      <td>UNDER CONSTRUCTION</td>\n",
       "      <td>Pressurised Water Reactor</td>\n",
       "      <td>Emirates Nuclear Energy Corporation</td>\n",
       "      <td>Emirates Nuclear Energy Corporation</td>\n",
       "      <td>NaN</td>\n",
       "    </tr>\n",
       "    <tr>\n",
       "      <th>...</th>\n",
       "      <td>...</td>\n",
       "      <td>...</td>\n",
       "      <td>...</td>\n",
       "      <td>...</td>\n",
       "      <td>...</td>\n",
       "      <td>...</td>\n",
       "      <td>...</td>\n",
       "      <td>...</td>\n",
       "      <td>...</td>\n",
       "    </tr>\n",
       "    <tr>\n",
       "      <th>394</th>\n",
       "      <td>Maanshan 1</td>\n",
       "      <td>http://www.world-nuclear.org/reactor/default.a...</td>\n",
       "      <td>Taiwan</td>\n",
       "      <td>936 MWe</td>\n",
       "      <td>OPERABLE</td>\n",
       "      <td>Pressurised Water Reactor</td>\n",
       "      <td>Taiwan Power Co.</td>\n",
       "      <td>Taiwan Power Co.</td>\n",
       "      <td>9 May 1984</td>\n",
       "    </tr>\n",
       "    <tr>\n",
       "      <th>595</th>\n",
       "      <td>Takahama 3</td>\n",
       "      <td>http://www.world-nuclear.org/reactor/default.a...</td>\n",
       "      <td>Japan</td>\n",
       "      <td>830 MWe</td>\n",
       "      <td>OPERABLE</td>\n",
       "      <td>Pressurised Water Reactor</td>\n",
       "      <td>Kansai Electric Power Co.</td>\n",
       "      <td>Kansai Electric Power Co.</td>\n",
       "      <td>9 May 1984</td>\n",
       "    </tr>\n",
       "    <tr>\n",
       "      <th>323</th>\n",
       "      <td>Kalinin 1</td>\n",
       "      <td>http://www.world-nuclear.org/reactor/default.a...</td>\n",
       "      <td>Russia</td>\n",
       "      <td>950 MWe</td>\n",
       "      <td>OPERABLE</td>\n",
       "      <td>Pressurised Water Reactor</td>\n",
       "      <td>Joint Stock Company 'Concern Rosenergoatom'</td>\n",
       "      <td>Joint Stock Company 'Concern Rosenergoatom'</td>\n",
       "      <td>9 May 1984</td>\n",
       "    </tr>\n",
       "    <tr>\n",
       "      <th>421</th>\n",
       "      <td>Nine Mile Point 1</td>\n",
       "      <td>http://www.world-nuclear.org/reactor/default.a...</td>\n",
       "      <td>United States Of America</td>\n",
       "      <td>613 MWe</td>\n",
       "      <td>OPERABLE</td>\n",
       "      <td>Boiling Water Reactor</td>\n",
       "      <td>Constellation Energy Nuclear Group, Llc</td>\n",
       "      <td>Exelon Generation Co., Llc</td>\n",
       "      <td>9 November 1969</td>\n",
       "    </tr>\n",
       "    <tr>\n",
       "      <th>405</th>\n",
       "      <td>Millstone 2</td>\n",
       "      <td>http://www.world-nuclear.org/reactor/default.a...</td>\n",
       "      <td>United States Of America</td>\n",
       "      <td>869 MWe</td>\n",
       "      <td>OPERABLE</td>\n",
       "      <td>Pressurised Water Reactor</td>\n",
       "      <td>Dominion Resources, Inc.</td>\n",
       "      <td>Dominion Generation</td>\n",
       "      <td>9 November 1975</td>\n",
       "    </tr>\n",
       "  </tbody>\n",
       "</table>\n",
       "<p>671 rows × 9 columns</p>\n",
       "</div>"
      ],
      "text/plain": [
       "                     Name                                          Name_link  \\\n",
       "1    Akademik Lomonosov 1  http://www.world-nuclear.org/reactor/default.a...   \n",
       "2    Akademik Lomonosov 2  http://www.world-nuclear.org/reactor/default.a...   \n",
       "8                 Angra 3  http://www.world-nuclear.org/reactor/default.a...   \n",
       "23               Baltic 1  http://www.world-nuclear.org/reactor/default.a...   \n",
       "24              Barakah 1  http://www.world-nuclear.org/reactor/default.a...   \n",
       "..                    ...                                                ...   \n",
       "394            Maanshan 1  http://www.world-nuclear.org/reactor/default.a...   \n",
       "595            Takahama 3  http://www.world-nuclear.org/reactor/default.a...   \n",
       "323             Kalinin 1  http://www.world-nuclear.org/reactor/default.a...   \n",
       "421     Nine Mile Point 1  http://www.world-nuclear.org/reactor/default.a...   \n",
       "405           Millstone 2  http://www.world-nuclear.org/reactor/default.a...   \n",
       "\n",
       "                      Country  Capacity              Status  \\\n",
       "1                      Russia    32 MWe  UNDER CONSTRUCTION   \n",
       "2                      Russia    32 MWe  UNDER CONSTRUCTION   \n",
       "8                      Brazil  1245 MWe  UNDER CONSTRUCTION   \n",
       "23                     Russia  1109 MWe  UNDER CONSTRUCTION   \n",
       "24       United Arab Emirates  1345 MWe  UNDER CONSTRUCTION   \n",
       "..                        ...       ...                 ...   \n",
       "394                    Taiwan   936 MWe            OPERABLE   \n",
       "595                     Japan   830 MWe            OPERABLE   \n",
       "323                    Russia   950 MWe            OPERABLE   \n",
       "421  United States Of America   613 MWe            OPERABLE   \n",
       "405  United States Of America   869 MWe            OPERABLE   \n",
       "\n",
       "                          Type                                        Owner  \\\n",
       "1    Pressurised Water Reactor  Joint Stock Company 'Concern Rosenergoatom'   \n",
       "2    Pressurised Water Reactor  Joint Stock Company 'Concern Rosenergoatom'   \n",
       "8    Pressurised Water Reactor                Eletrobras Eletronuclear S.A.   \n",
       "23   Pressurised Water Reactor  Joint Stock Company 'Concern Rosenergoatom'   \n",
       "24   Pressurised Water Reactor          Emirates Nuclear Energy Corporation   \n",
       "..                         ...                                          ...   \n",
       "394  Pressurised Water Reactor                             Taiwan Power Co.   \n",
       "595  Pressurised Water Reactor                    Kansai Electric Power Co.   \n",
       "323  Pressurised Water Reactor  Joint Stock Company 'Concern Rosenergoatom'   \n",
       "421      Boiling Water Reactor      Constellation Energy Nuclear Group, Llc   \n",
       "405  Pressurised Water Reactor                     Dominion Resources, Inc.   \n",
       "\n",
       "                                        Operator       Connection  \n",
       "1    Joint Stock Company 'Concern Rosenergoatom'              NaN  \n",
       "2    Joint Stock Company 'Concern Rosenergoatom'              NaN  \n",
       "8                  Eletrobras Eletronuclear S.A.              NaN  \n",
       "23   Joint Stock Company 'Concern Rosenergoatom'              NaN  \n",
       "24           Emirates Nuclear Energy Corporation              NaN  \n",
       "..                                           ...              ...  \n",
       "394                             Taiwan Power Co.       9 May 1984  \n",
       "595                    Kansai Electric Power Co.       9 May 1984  \n",
       "323  Joint Stock Company 'Concern Rosenergoatom'       9 May 1984  \n",
       "421                   Exelon Generation Co., Llc  9 November 1969  \n",
       "405                          Dominion Generation  9 November 1975  \n",
       "\n",
       "[671 rows x 9 columns]"
      ]
     },
     "execution_count": 7,
     "metadata": {},
     "output_type": "execute_result"
    }
   ],
   "source": [
    "reactors.sort_values(\"Connection\", na_position = \"first\")"
   ]
  },
  {
   "cell_type": "raw",
   "id": "dress-reconstruction",
   "metadata": {},
   "source": []
  },
  {
   "cell_type": "code",
   "execution_count": 8,
   "id": "floating-domestic",
   "metadata": {},
   "outputs": [
    {
     "data": {
      "text/html": [
       "<div>\n",
       "<style scoped>\n",
       "    .dataframe tbody tr th:only-of-type {\n",
       "        vertical-align: middle;\n",
       "    }\n",
       "\n",
       "    .dataframe tbody tr th {\n",
       "        vertical-align: top;\n",
       "    }\n",
       "\n",
       "    .dataframe thead th {\n",
       "        text-align: right;\n",
       "    }\n",
       "</style>\n",
       "<table border=\"1\" class=\"dataframe\">\n",
       "  <thead>\n",
       "    <tr style=\"text-align: right;\">\n",
       "      <th></th>\n",
       "      <th>Name</th>\n",
       "      <th>Name_link</th>\n",
       "      <th>Country</th>\n",
       "      <th>Capacity</th>\n",
       "      <th>Status</th>\n",
       "      <th>Type</th>\n",
       "      <th>Owner</th>\n",
       "      <th>Operator</th>\n",
       "      <th>Connection</th>\n",
       "      <th>Year</th>\n",
       "    </tr>\n",
       "  </thead>\n",
       "  <tbody>\n",
       "    <tr>\n",
       "      <th>0</th>\n",
       "      <td>Agesta</td>\n",
       "      <td>http://www.world-nuclear.org/reactor/default.a...</td>\n",
       "      <td>Sweden</td>\n",
       "      <td>10 MWe</td>\n",
       "      <td>PERMANENT SHUTDOWN</td>\n",
       "      <td>Pressurized Heavy Water Reactor</td>\n",
       "      <td>Barsebäck Kraft AB</td>\n",
       "      <td>Barsebäck Kraft AB</td>\n",
       "      <td>1 May 1964</td>\n",
       "      <td>1964</td>\n",
       "    </tr>\n",
       "    <tr>\n",
       "      <th>1</th>\n",
       "      <td>Akademik Lomonosov 1</td>\n",
       "      <td>http://www.world-nuclear.org/reactor/default.a...</td>\n",
       "      <td>Russia</td>\n",
       "      <td>32 MWe</td>\n",
       "      <td>UNDER CONSTRUCTION</td>\n",
       "      <td>Pressurised Water Reactor</td>\n",
       "      <td>Joint Stock Company 'Concern Rosenergoatom'</td>\n",
       "      <td>Joint Stock Company 'Concern Rosenergoatom'</td>\n",
       "      <td>NaN</td>\n",
       "      <td>NaN</td>\n",
       "    </tr>\n",
       "    <tr>\n",
       "      <th>2</th>\n",
       "      <td>Akademik Lomonosov 2</td>\n",
       "      <td>http://www.world-nuclear.org/reactor/default.a...</td>\n",
       "      <td>Russia</td>\n",
       "      <td>32 MWe</td>\n",
       "      <td>UNDER CONSTRUCTION</td>\n",
       "      <td>Pressurised Water Reactor</td>\n",
       "      <td>Joint Stock Company 'Concern Rosenergoatom'</td>\n",
       "      <td>Joint Stock Company 'Concern Rosenergoatom'</td>\n",
       "      <td>NaN</td>\n",
       "      <td>NaN</td>\n",
       "    </tr>\n",
       "    <tr>\n",
       "      <th>3</th>\n",
       "      <td>Aktau</td>\n",
       "      <td>http://www.world-nuclear.org/reactor/default.a...</td>\n",
       "      <td>Kazakhstan</td>\n",
       "      <td>52 MWe</td>\n",
       "      <td>PERMANENT SHUTDOWN</td>\n",
       "      <td>Fast Reactor</td>\n",
       "      <td>Joint Stock Company \"National Atomic Company K...</td>\n",
       "      <td>Mangishlak Atomic Energy Complex-Kazatomprom,L...</td>\n",
       "      <td>16 July 1973</td>\n",
       "      <td>1973</td>\n",
       "    </tr>\n",
       "    <tr>\n",
       "      <th>4</th>\n",
       "      <td>Almaraz 1</td>\n",
       "      <td>http://www.world-nuclear.org/reactor/default.a...</td>\n",
       "      <td>Spain</td>\n",
       "      <td>1011 MWe</td>\n",
       "      <td>OPERABLE</td>\n",
       "      <td>Pressurised Water Reactor</td>\n",
       "      <td>Iberdrola, Endesa, Gas Natural</td>\n",
       "      <td>Centrales Nucleares Almaraz-Trillo(Id/Ufg/Ende...</td>\n",
       "      <td>1 May 1981</td>\n",
       "      <td>1981</td>\n",
       "    </tr>\n",
       "  </tbody>\n",
       "</table>\n",
       "</div>"
      ],
      "text/plain": [
       "                   Name                                          Name_link  \\\n",
       "0                Agesta  http://www.world-nuclear.org/reactor/default.a...   \n",
       "1  Akademik Lomonosov 1  http://www.world-nuclear.org/reactor/default.a...   \n",
       "2  Akademik Lomonosov 2  http://www.world-nuclear.org/reactor/default.a...   \n",
       "3                 Aktau  http://www.world-nuclear.org/reactor/default.a...   \n",
       "4             Almaraz 1  http://www.world-nuclear.org/reactor/default.a...   \n",
       "\n",
       "      Country  Capacity              Status                             Type  \\\n",
       "0      Sweden    10 MWe  PERMANENT SHUTDOWN  Pressurized Heavy Water Reactor   \n",
       "1      Russia    32 MWe  UNDER CONSTRUCTION        Pressurised Water Reactor   \n",
       "2      Russia    32 MWe  UNDER CONSTRUCTION        Pressurised Water Reactor   \n",
       "3  Kazakhstan    52 MWe  PERMANENT SHUTDOWN                     Fast Reactor   \n",
       "4       Spain  1011 MWe            OPERABLE        Pressurised Water Reactor   \n",
       "\n",
       "                                               Owner  \\\n",
       "0                                 Barsebäck Kraft AB   \n",
       "1        Joint Stock Company 'Concern Rosenergoatom'   \n",
       "2        Joint Stock Company 'Concern Rosenergoatom'   \n",
       "3  Joint Stock Company \"National Atomic Company K...   \n",
       "4                     Iberdrola, Endesa, Gas Natural   \n",
       "\n",
       "                                            Operator    Connection  Year  \n",
       "0                                 Barsebäck Kraft AB    1 May 1964  1964  \n",
       "1        Joint Stock Company 'Concern Rosenergoatom'           NaN   NaN  \n",
       "2        Joint Stock Company 'Concern Rosenergoatom'           NaN   NaN  \n",
       "3  Mangishlak Atomic Energy Complex-Kazatomprom,L...  16 July 1973  1973  \n",
       "4  Centrales Nucleares Almaraz-Trillo(Id/Ufg/Ende...    1 May 1981  1981  "
      ]
     },
     "execution_count": 8,
     "metadata": {},
     "output_type": "execute_result"
    }
   ],
   "source": [
    "reactors[\"Year\"] = reactors[\"Connection\"].str.extract(r'\\b(\\w+)$', expand=True)\n",
    "reactors.head()"
   ]
  },
  {
   "cell_type": "markdown",
   "id": "provincial-partnership",
   "metadata": {},
   "source": [
    "### Splitting a column into several columns using a separator"
   ]
  },
  {
   "cell_type": "markdown",
   "id": "legendary-muscle",
   "metadata": {},
   "source": [
    "We split a column on the first occurrence of a blank space, that is why we write `n=1`."
   ]
  },
  {
   "cell_type": "code",
   "execution_count": 9,
   "id": "given-tract",
   "metadata": {},
   "outputs": [
    {
     "data": {
      "text/html": [
       "<div>\n",
       "<style scoped>\n",
       "    .dataframe tbody tr th:only-of-type {\n",
       "        vertical-align: middle;\n",
       "    }\n",
       "\n",
       "    .dataframe tbody tr th {\n",
       "        vertical-align: top;\n",
       "    }\n",
       "\n",
       "    .dataframe thead th {\n",
       "        text-align: right;\n",
       "    }\n",
       "</style>\n",
       "<table border=\"1\" class=\"dataframe\">\n",
       "  <thead>\n",
       "    <tr style=\"text-align: right;\">\n",
       "      <th></th>\n",
       "      <th>0</th>\n",
       "      <th>1</th>\n",
       "    </tr>\n",
       "  </thead>\n",
       "  <tbody>\n",
       "    <tr>\n",
       "      <th>0</th>\n",
       "      <td>10</td>\n",
       "      <td>MWe</td>\n",
       "    </tr>\n",
       "    <tr>\n",
       "      <th>1</th>\n",
       "      <td>32</td>\n",
       "      <td>MWe</td>\n",
       "    </tr>\n",
       "    <tr>\n",
       "      <th>2</th>\n",
       "      <td>32</td>\n",
       "      <td>MWe</td>\n",
       "    </tr>\n",
       "    <tr>\n",
       "      <th>3</th>\n",
       "      <td>52</td>\n",
       "      <td>MWe</td>\n",
       "    </tr>\n",
       "    <tr>\n",
       "      <th>4</th>\n",
       "      <td>1011</td>\n",
       "      <td>MWe</td>\n",
       "    </tr>\n",
       "    <tr>\n",
       "      <th>...</th>\n",
       "      <td>...</td>\n",
       "      <td>...</td>\n",
       "    </tr>\n",
       "    <tr>\n",
       "      <th>666</th>\n",
       "      <td>950</td>\n",
       "      <td>MWe</td>\n",
       "    </tr>\n",
       "    <tr>\n",
       "      <th>667</th>\n",
       "      <td>950</td>\n",
       "      <td>MWe</td>\n",
       "    </tr>\n",
       "    <tr>\n",
       "      <th>668</th>\n",
       "      <td>950</td>\n",
       "      <td>MWe</td>\n",
       "    </tr>\n",
       "    <tr>\n",
       "      <th>669</th>\n",
       "      <td>1040</td>\n",
       "      <td>MWe</td>\n",
       "    </tr>\n",
       "    <tr>\n",
       "      <th>670</th>\n",
       "      <td>1040</td>\n",
       "      <td>MWe</td>\n",
       "    </tr>\n",
       "  </tbody>\n",
       "</table>\n",
       "<p>671 rows × 2 columns</p>\n",
       "</div>"
      ],
      "text/plain": [
       "        0    1\n",
       "0      10  MWe\n",
       "1      32  MWe\n",
       "2      32  MWe\n",
       "3      52  MWe\n",
       "4    1011  MWe\n",
       "..    ...  ...\n",
       "666   950  MWe\n",
       "667   950  MWe\n",
       "668   950  MWe\n",
       "669  1040  MWe\n",
       "670  1040  MWe\n",
       "\n",
       "[671 rows x 2 columns]"
      ]
     },
     "execution_count": 9,
     "metadata": {},
     "output_type": "execute_result"
    }
   ],
   "source": [
    "new_capacity = reactors[\"Capacity\"].str.split(\" \", n = 1, expand = True)\n",
    "new_capacity"
   ]
  },
  {
   "cell_type": "code",
   "execution_count": 10,
   "id": "ordinary-reliance",
   "metadata": {},
   "outputs": [],
   "source": [
    "reactors[\"Capacity number\"]=new_capacity[0]\n",
    "reactors[\"Unit\"]=new_capacity[1]\n",
    "reactors.drop(columns = \"Capacity\", inplace = True)"
   ]
  },
  {
   "cell_type": "code",
   "execution_count": 11,
   "id": "public-battery",
   "metadata": {
    "scrolled": false
   },
   "outputs": [
    {
     "data": {
      "text/html": [
       "<div>\n",
       "<style scoped>\n",
       "    .dataframe tbody tr th:only-of-type {\n",
       "        vertical-align: middle;\n",
       "    }\n",
       "\n",
       "    .dataframe tbody tr th {\n",
       "        vertical-align: top;\n",
       "    }\n",
       "\n",
       "    .dataframe thead th {\n",
       "        text-align: right;\n",
       "    }\n",
       "</style>\n",
       "<table border=\"1\" class=\"dataframe\">\n",
       "  <thead>\n",
       "    <tr style=\"text-align: right;\">\n",
       "      <th></th>\n",
       "      <th>Name</th>\n",
       "      <th>Name_link</th>\n",
       "      <th>Country</th>\n",
       "      <th>Status</th>\n",
       "      <th>Type</th>\n",
       "      <th>Owner</th>\n",
       "      <th>Operator</th>\n",
       "      <th>Connection</th>\n",
       "      <th>Year</th>\n",
       "      <th>Capacity number</th>\n",
       "      <th>Unit</th>\n",
       "    </tr>\n",
       "  </thead>\n",
       "  <tbody>\n",
       "    <tr>\n",
       "      <th>0</th>\n",
       "      <td>Agesta</td>\n",
       "      <td>http://www.world-nuclear.org/reactor/default.a...</td>\n",
       "      <td>Sweden</td>\n",
       "      <td>PERMANENT SHUTDOWN</td>\n",
       "      <td>Pressurized Heavy Water Reactor</td>\n",
       "      <td>Barsebäck Kraft AB</td>\n",
       "      <td>Barsebäck Kraft AB</td>\n",
       "      <td>1 May 1964</td>\n",
       "      <td>1964</td>\n",
       "      <td>10</td>\n",
       "      <td>MWe</td>\n",
       "    </tr>\n",
       "    <tr>\n",
       "      <th>1</th>\n",
       "      <td>Akademik Lomonosov 1</td>\n",
       "      <td>http://www.world-nuclear.org/reactor/default.a...</td>\n",
       "      <td>Russia</td>\n",
       "      <td>UNDER CONSTRUCTION</td>\n",
       "      <td>Pressurised Water Reactor</td>\n",
       "      <td>Joint Stock Company 'Concern Rosenergoatom'</td>\n",
       "      <td>Joint Stock Company 'Concern Rosenergoatom'</td>\n",
       "      <td>NaN</td>\n",
       "      <td>NaN</td>\n",
       "      <td>32</td>\n",
       "      <td>MWe</td>\n",
       "    </tr>\n",
       "    <tr>\n",
       "      <th>2</th>\n",
       "      <td>Akademik Lomonosov 2</td>\n",
       "      <td>http://www.world-nuclear.org/reactor/default.a...</td>\n",
       "      <td>Russia</td>\n",
       "      <td>UNDER CONSTRUCTION</td>\n",
       "      <td>Pressurised Water Reactor</td>\n",
       "      <td>Joint Stock Company 'Concern Rosenergoatom'</td>\n",
       "      <td>Joint Stock Company 'Concern Rosenergoatom'</td>\n",
       "      <td>NaN</td>\n",
       "      <td>NaN</td>\n",
       "      <td>32</td>\n",
       "      <td>MWe</td>\n",
       "    </tr>\n",
       "    <tr>\n",
       "      <th>3</th>\n",
       "      <td>Aktau</td>\n",
       "      <td>http://www.world-nuclear.org/reactor/default.a...</td>\n",
       "      <td>Kazakhstan</td>\n",
       "      <td>PERMANENT SHUTDOWN</td>\n",
       "      <td>Fast Reactor</td>\n",
       "      <td>Joint Stock Company \"National Atomic Company K...</td>\n",
       "      <td>Mangishlak Atomic Energy Complex-Kazatomprom,L...</td>\n",
       "      <td>16 July 1973</td>\n",
       "      <td>1973</td>\n",
       "      <td>52</td>\n",
       "      <td>MWe</td>\n",
       "    </tr>\n",
       "    <tr>\n",
       "      <th>4</th>\n",
       "      <td>Almaraz 1</td>\n",
       "      <td>http://www.world-nuclear.org/reactor/default.a...</td>\n",
       "      <td>Spain</td>\n",
       "      <td>OPERABLE</td>\n",
       "      <td>Pressurised Water Reactor</td>\n",
       "      <td>Iberdrola, Endesa, Gas Natural</td>\n",
       "      <td>Centrales Nucleares Almaraz-Trillo(Id/Ufg/Ende...</td>\n",
       "      <td>1 May 1981</td>\n",
       "      <td>1981</td>\n",
       "      <td>1011</td>\n",
       "      <td>MWe</td>\n",
       "    </tr>\n",
       "  </tbody>\n",
       "</table>\n",
       "</div>"
      ],
      "text/plain": [
       "                   Name                                          Name_link  \\\n",
       "0                Agesta  http://www.world-nuclear.org/reactor/default.a...   \n",
       "1  Akademik Lomonosov 1  http://www.world-nuclear.org/reactor/default.a...   \n",
       "2  Akademik Lomonosov 2  http://www.world-nuclear.org/reactor/default.a...   \n",
       "3                 Aktau  http://www.world-nuclear.org/reactor/default.a...   \n",
       "4             Almaraz 1  http://www.world-nuclear.org/reactor/default.a...   \n",
       "\n",
       "      Country              Status                             Type  \\\n",
       "0      Sweden  PERMANENT SHUTDOWN  Pressurized Heavy Water Reactor   \n",
       "1      Russia  UNDER CONSTRUCTION        Pressurised Water Reactor   \n",
       "2      Russia  UNDER CONSTRUCTION        Pressurised Water Reactor   \n",
       "3  Kazakhstan  PERMANENT SHUTDOWN                     Fast Reactor   \n",
       "4       Spain            OPERABLE        Pressurised Water Reactor   \n",
       "\n",
       "                                               Owner  \\\n",
       "0                                 Barsebäck Kraft AB   \n",
       "1        Joint Stock Company 'Concern Rosenergoatom'   \n",
       "2        Joint Stock Company 'Concern Rosenergoatom'   \n",
       "3  Joint Stock Company \"National Atomic Company K...   \n",
       "4                     Iberdrola, Endesa, Gas Natural   \n",
       "\n",
       "                                            Operator    Connection  Year  \\\n",
       "0                                 Barsebäck Kraft AB    1 May 1964  1964   \n",
       "1        Joint Stock Company 'Concern Rosenergoatom'           NaN   NaN   \n",
       "2        Joint Stock Company 'Concern Rosenergoatom'           NaN   NaN   \n",
       "3  Mangishlak Atomic Energy Complex-Kazatomprom,L...  16 July 1973  1973   \n",
       "4  Centrales Nucleares Almaraz-Trillo(Id/Ufg/Ende...    1 May 1981  1981   \n",
       "\n",
       "  Capacity number Unit  \n",
       "0              10  MWe  \n",
       "1              32  MWe  \n",
       "2              32  MWe  \n",
       "3              52  MWe  \n",
       "4            1011  MWe  "
      ]
     },
     "execution_count": 11,
     "metadata": {},
     "output_type": "execute_result"
    }
   ],
   "source": [
    "reactors.head()"
   ]
  },
  {
   "cell_type": "markdown",
   "id": "dying-discipline",
   "metadata": {},
   "source": [
    "### Finding and correcting errors in the *Capacity number* column"
   ]
  },
  {
   "cell_type": "markdown",
   "id": "compact-pollution",
   "metadata": {},
   "source": [
    "Inspecting the *Capacity number* column we discover some ',' rather than '.' to separate decimals, and there is a line with a '-' for value"
   ]
  },
  {
   "cell_type": "code",
   "execution_count": 12,
   "id": "convinced-berkeley",
   "metadata": {
    "scrolled": true
   },
   "outputs": [
    {
     "data": {
      "text/plain": [
       "array(['10', '32', '52', '1011', '1006', '609', '1275', '1245', '836',\n",
       "       '993', '5', '376', '375', '995', '997', '340', '692', '13', '950',\n",
       "       '1109', '1345', '600', '921', '904', '1310', '102', '146', '560',\n",
       "       '789', '138', '365', '1167', '1240', '67', '11', 'OPERABLE', '910',\n",
       "       '408', '471', '93', '17', '482', '123', '1194', '1160', '1410',\n",
       "       '1101', '1104', '1105', '760', '730', '750', '817', '771', '938',\n",
       "       '920', '540', '880', '915', '1164', '1136', '49', '1215', '866',\n",
       "       '850', '860', '25', '1146', '1.3', '20', '650', '610', '48', '300',\n",
       "       '315', '740', '925', '70', '180', '360', '905', '604', '305',\n",
       "       '1500', '1495', '1065', '1064', '1107', '1218', '1207', '1045',\n",
       "       '768', '890', '878', '894', '944', '1138', '1118', '55', '433',\n",
       "       '1033', '206', '234', '197', '879', '601', '468', '225', '520',\n",
       "       '22', '1335', '260', '1000', '1012', '874', '883', '61', '1122',\n",
       "       '813', '1330', '1,6', '984', '1120', '330', '148', '439', '1067',\n",
       "       '39', '40', '150', '24', '529', '1127', '250', '635', '580',\n",
       "       '1010', '1419', '1360', '237', '1284', '1288', '75', '515', '806',\n",
       "       '1056', '1092', '1325', '996', '988', '994', '970', '968', '969',\n",
       "       '999', '998', '928', '595', '585', '876', '575', '235', '475',\n",
       "       '470', '1061', '1172', '63', '485', '1185', '538', '846', '257',\n",
       "       '1020', '1040', '141', '12', '202', '630', '-', '1014', '1315',\n",
       "       '566', '930', '411', '576', '640', '963', '688', '1346', '917',\n",
       "       '985', '777', '775', '1137', '1140', '153', '1220', '1085', '1130',\n",
       "       '1134', '1007', '183', '502', '496', '6', '936', '205', '1158',\n",
       "       '320', '780', '641', '869', '1229', '436', '440', '246', '647',\n",
       "       '373', '1219', '785', '100', '613', '1277', '1018', '948', '943',\n",
       "       '336', '1114', '385', '848', '859', '217', '498', '796', '473',\n",
       "       '638', '1400', '619', '805', '1311', '1314', '1312', '59', '1308',\n",
       "       '1256', '130', '1402', '516', '677', '591', '660', '522', '518',\n",
       "       '298', '908', '911', '90', '187', '873', '62', '1106', '967',\n",
       "       '741', '381', '1169', '1070', '1080', '446', '3', '1246', '1152',\n",
       "       '1125', '200', '505', '1108', '1340', '60', '820', '210', '1198',\n",
       "       '1280', '390', '465', '982', '987', '971', '1117', '1200', '838',\n",
       "       '1257', '1660', '830', '490', '1026', '819', '296', '990', '962',\n",
       "       '1008', '1038', '137', '1060', '550', '590', '195', '1003', '1095',\n",
       "       '802', '15', '480', '605', '1150', '1168', '1123', '1165', '92',\n",
       "       '664', '652', '651', '653', '167'], dtype=object)"
      ]
     },
     "execution_count": 12,
     "metadata": {},
     "output_type": "execute_result"
    }
   ],
   "source": [
    "reactors['Capacity number'].unique()"
   ]
  },
  {
   "cell_type": "markdown",
   "id": "atmospheric-sarah",
   "metadata": {},
   "source": [
    "Finding the lines where there is a decimal ',' and displaying them."
   ]
  },
  {
   "cell_type": "code",
   "execution_count": 13,
   "id": "infrared-radical",
   "metadata": {
    "scrolled": true
   },
   "outputs": [
    {
     "data": {
      "text/plain": [
       "451    1\n",
       "201    1\n",
       "0     -1\n",
       "443   -1\n",
       "444   -1\n",
       "      ..\n",
       "225   -1\n",
       "226   -1\n",
       "227   -1\n",
       "228   -1\n",
       "670   -1\n",
       "Name: Capacity number, Length: 671, dtype: int64"
      ]
     },
     "execution_count": 13,
     "metadata": {},
     "output_type": "execute_result"
    }
   ],
   "source": [
    "reactors['Capacity number'].str.find(',').sort_values(ascending=False)"
   ]
  },
  {
   "cell_type": "code",
   "execution_count": 14,
   "id": "freelance-touch",
   "metadata": {},
   "outputs": [
    {
     "data": {
      "text/plain": [
       "Name                                                     Olkiluoto 3\n",
       "Name_link          http://www.world-nuclear.org/reactor/default.a...\n",
       "Country                                                      Finland\n",
       "Status                                            UNDER CONSTRUCTION\n",
       "Type                                       Pressurised Water Reactor\n",
       "Owner                                         Teollisuuden Voima Oyj\n",
       "Operator                                      Teollisuuden Voima Oyj\n",
       "Connection                                                       NaN\n",
       "Year                                                             NaN\n",
       "Capacity number                                                  1,6\n",
       "Unit                                                             GWe\n",
       "Name: 451, dtype: object"
      ]
     },
     "execution_count": 14,
     "metadata": {},
     "output_type": "execute_result"
    }
   ],
   "source": [
    "reactors.loc[451]"
   ]
  },
  {
   "cell_type": "code",
   "execution_count": 15,
   "id": "prompt-equation",
   "metadata": {},
   "outputs": [
    {
     "data": {
      "text/plain": [
       "327    0\n",
       "0     -1\n",
       "451   -1\n",
       "443   -1\n",
       "444   -1\n",
       "      ..\n",
       "224   -1\n",
       "225   -1\n",
       "226   -1\n",
       "227   -1\n",
       "670   -1\n",
       "Name: Capacity number, Length: 671, dtype: int64"
      ]
     },
     "execution_count": 15,
     "metadata": {},
     "output_type": "execute_result"
    }
   ],
   "source": [
    "reactors['Capacity number'].str.find('-').sort_values(ascending=False)"
   ]
  },
  {
   "cell_type": "code",
   "execution_count": 16,
   "id": "reduced-monte",
   "metadata": {},
   "outputs": [
    {
     "data": {
      "text/plain": [
       "Name                                                          KANUPP\n",
       "Name_link          http://www.world-nuclear.org/reactor/default.a...\n",
       "Country                                                     Pakistan\n",
       "Status                                                         false\n",
       "Type                                 Pressurized Heavy Water Reactor\n",
       "Owner                                                            NaN\n",
       "Operator                                                       false\n",
       "Connection                                           18 October 1971\n",
       "Year                                                            1971\n",
       "Capacity number                                                    -\n",
       "Unit                                                             MWe\n",
       "Name: 327, dtype: object"
      ]
     },
     "execution_count": 16,
     "metadata": {},
     "output_type": "execute_result"
    }
   ],
   "source": [
    "reactors.loc[327]"
   ]
  },
  {
   "cell_type": "code",
   "execution_count": 17,
   "id": "computational-camera",
   "metadata": {},
   "outputs": [],
   "source": [
    "reactors['Capacity number'].iloc[[201,451,327]]=reactors['Capacity number'].iloc[[201,451,327]].replace({'1,6':'1.6', '-':'0.0'})"
   ]
  },
  {
   "cell_type": "code",
   "execution_count": 18,
   "id": "residential-punishment",
   "metadata": {},
   "outputs": [
    {
     "data": {
      "text/plain": [
       "201    1.6\n",
       "451    1.6\n",
       "327    0.0\n",
       "Name: Capacity number, dtype: object"
      ]
     },
     "execution_count": 18,
     "metadata": {},
     "output_type": "execute_result"
    }
   ],
   "source": [
    "reactors['Capacity number'].iloc[[201,451,327]]"
   ]
  },
  {
   "cell_type": "markdown",
   "id": "excited-guitar",
   "metadata": {},
   "source": [
    "### Correcting the line with 'OPERABLE' in the *Capacity number'* column"
   ]
  },
  {
   "cell_type": "markdown",
   "id": "daily-solution",
   "metadata": {},
   "source": [
    "We first find the offending line."
   ]
  },
  {
   "cell_type": "code",
   "execution_count": 19,
   "id": "related-calendar",
   "metadata": {},
   "outputs": [
    {
     "data": {
      "text/html": [
       "<div>\n",
       "<style scoped>\n",
       "    .dataframe tbody tr th:only-of-type {\n",
       "        vertical-align: middle;\n",
       "    }\n",
       "\n",
       "    .dataframe tbody tr th {\n",
       "        vertical-align: top;\n",
       "    }\n",
       "\n",
       "    .dataframe thead th {\n",
       "        text-align: right;\n",
       "    }\n",
       "</style>\n",
       "<table border=\"1\" class=\"dataframe\">\n",
       "  <thead>\n",
       "    <tr style=\"text-align: right;\">\n",
       "      <th></th>\n",
       "      <th>Name</th>\n",
       "      <th>Name_link</th>\n",
       "      <th>Country</th>\n",
       "      <th>Status</th>\n",
       "      <th>Type</th>\n",
       "      <th>Owner</th>\n",
       "      <th>Operator</th>\n",
       "      <th>Connection</th>\n",
       "      <th>Year</th>\n",
       "      <th>Capacity number</th>\n",
       "      <th>Unit</th>\n",
       "    </tr>\n",
       "  </thead>\n",
       "  <tbody>\n",
       "    <tr>\n",
       "      <th>48</th>\n",
       "      <td>Bilibino 4</td>\n",
       "      <td>http://www.world-nuclear.org/reactor/default.a...</td>\n",
       "      <td>Russia”,”11 MWe</td>\n",
       "      <td>Light Water Graphite Reactor</td>\n",
       "      <td>Joint Stock Company 'Concern Rosenergoatom'</td>\n",
       "      <td>Joint Stock Company 'Concern Rosenergoatom'</td>\n",
       "      <td>27 December 1976</td>\n",
       "      <td>NaN</td>\n",
       "      <td>NaN</td>\n",
       "      <td>OPERABLE</td>\n",
       "      <td>None</td>\n",
       "    </tr>\n",
       "  </tbody>\n",
       "</table>\n",
       "</div>"
      ],
      "text/plain": [
       "          Name                                          Name_link  \\\n",
       "48  Bilibino 4  http://www.world-nuclear.org/reactor/default.a...   \n",
       "\n",
       "            Country                        Status  \\\n",
       "48  Russia”,”11 MWe  Light Water Graphite Reactor   \n",
       "\n",
       "                                           Type  \\\n",
       "48  Joint Stock Company 'Concern Rosenergoatom'   \n",
       "\n",
       "                                          Owner          Operator Connection  \\\n",
       "48  Joint Stock Company 'Concern Rosenergoatom'  27 December 1976        NaN   \n",
       "\n",
       "   Year Capacity number  Unit  \n",
       "48  NaN        OPERABLE  None  "
      ]
     },
     "execution_count": 19,
     "metadata": {},
     "output_type": "execute_result"
    }
   ],
   "source": [
    "reactors.loc[reactors['Capacity number']=='OPERABLE']"
   ]
  },
  {
   "cell_type": "markdown",
   "id": "activated-exhibit",
   "metadata": {},
   "source": [
    "We display the offending line along with a correct line to compare and see how to proceed to fix it."
   ]
  },
  {
   "cell_type": "code",
   "execution_count": 20,
   "id": "skilled-material",
   "metadata": {},
   "outputs": [
    {
     "data": {
      "text/html": [
       "<div>\n",
       "<style scoped>\n",
       "    .dataframe tbody tr th:only-of-type {\n",
       "        vertical-align: middle;\n",
       "    }\n",
       "\n",
       "    .dataframe tbody tr th {\n",
       "        vertical-align: top;\n",
       "    }\n",
       "\n",
       "    .dataframe thead th {\n",
       "        text-align: right;\n",
       "    }\n",
       "</style>\n",
       "<table border=\"1\" class=\"dataframe\">\n",
       "  <thead>\n",
       "    <tr style=\"text-align: right;\">\n",
       "      <th></th>\n",
       "      <th>Name</th>\n",
       "      <th>Name_link</th>\n",
       "      <th>Country</th>\n",
       "      <th>Status</th>\n",
       "      <th>Type</th>\n",
       "      <th>Owner</th>\n",
       "      <th>Operator</th>\n",
       "      <th>Connection</th>\n",
       "      <th>Year</th>\n",
       "      <th>Capacity number</th>\n",
       "      <th>Unit</th>\n",
       "    </tr>\n",
       "  </thead>\n",
       "  <tbody>\n",
       "    <tr>\n",
       "      <th>48</th>\n",
       "      <td>Bilibino 4</td>\n",
       "      <td>http://www.world-nuclear.org/reactor/default.a...</td>\n",
       "      <td>Russia”,”11 MWe</td>\n",
       "      <td>Light Water Graphite Reactor</td>\n",
       "      <td>Joint Stock Company 'Concern Rosenergoatom'</td>\n",
       "      <td>Joint Stock Company 'Concern Rosenergoatom'</td>\n",
       "      <td>27 December 1976</td>\n",
       "      <td>NaN</td>\n",
       "      <td>NaN</td>\n",
       "      <td>OPERABLE</td>\n",
       "      <td>None</td>\n",
       "    </tr>\n",
       "    <tr>\n",
       "      <th>49</th>\n",
       "      <td>Blayais 1</td>\n",
       "      <td>http://www.world-nuclear.org/reactor/default.a...</td>\n",
       "      <td>France</td>\n",
       "      <td>OPERABLE</td>\n",
       "      <td>Pressurised Water Reactor</td>\n",
       "      <td>EDF</td>\n",
       "      <td>EDF</td>\n",
       "      <td>12 June 1981</td>\n",
       "      <td>1981</td>\n",
       "      <td>910</td>\n",
       "      <td>MWe</td>\n",
       "    </tr>\n",
       "  </tbody>\n",
       "</table>\n",
       "</div>"
      ],
      "text/plain": [
       "          Name                                          Name_link  \\\n",
       "48  Bilibino 4  http://www.world-nuclear.org/reactor/default.a...   \n",
       "49   Blayais 1  http://www.world-nuclear.org/reactor/default.a...   \n",
       "\n",
       "            Country                        Status  \\\n",
       "48  Russia”,”11 MWe  Light Water Graphite Reactor   \n",
       "49           France                      OPERABLE   \n",
       "\n",
       "                                           Type  \\\n",
       "48  Joint Stock Company 'Concern Rosenergoatom'   \n",
       "49                    Pressurised Water Reactor   \n",
       "\n",
       "                                          Owner          Operator  \\\n",
       "48  Joint Stock Company 'Concern Rosenergoatom'  27 December 1976   \n",
       "49                                          EDF               EDF   \n",
       "\n",
       "      Connection  Year Capacity number  Unit  \n",
       "48           NaN   NaN        OPERABLE  None  \n",
       "49  12 June 1981  1981             910   MWe  "
      ]
     },
     "execution_count": 20,
     "metadata": {},
     "output_type": "execute_result"
    }
   ],
   "source": [
    "reactors.loc[[48,49]]"
   ]
  },
  {
   "cell_type": "markdown",
   "id": "grateful-helmet",
   "metadata": {},
   "source": [
    "We correct field after field. We could have done it with a `for` loop but it is only one line and is useful to understand how to access individual elements of a dataframe."
   ]
  },
  {
   "cell_type": "code",
   "execution_count": 21,
   "id": "psychological-personal",
   "metadata": {},
   "outputs": [],
   "source": [
    "reactors.iloc[48]['Capacity number']=11"
   ]
  },
  {
   "cell_type": "code",
   "execution_count": 22,
   "id": "decreased-comparison",
   "metadata": {},
   "outputs": [],
   "source": [
    "reactors.iloc[48]['Country']='Russia'"
   ]
  },
  {
   "cell_type": "code",
   "execution_count": 23,
   "id": "demanding-istanbul",
   "metadata": {},
   "outputs": [],
   "source": [
    "reactors.iloc[48]['Status']='OPERABLE'"
   ]
  },
  {
   "cell_type": "code",
   "execution_count": 24,
   "id": "recreational-immune",
   "metadata": {},
   "outputs": [],
   "source": [
    "reactors.iloc[48]['Type']='Light Water Graphite Reactor'"
   ]
  },
  {
   "cell_type": "code",
   "execution_count": 25,
   "id": "superb-function",
   "metadata": {},
   "outputs": [],
   "source": [
    "reactors.iloc[48]['Owner']='Joint Stock Company ''Concern Rosenergoatom'''"
   ]
  },
  {
   "cell_type": "code",
   "execution_count": 26,
   "id": "emerging-proposal",
   "metadata": {},
   "outputs": [],
   "source": [
    "reactors.iloc[48]['Operator']='Joint Stock Company ''Concern Rosenergoatom'''"
   ]
  },
  {
   "cell_type": "code",
   "execution_count": 27,
   "id": "compressed-newark",
   "metadata": {},
   "outputs": [],
   "source": [
    "reactors.iloc[48]['Connection']='27 December 1976'"
   ]
  },
  {
   "cell_type": "code",
   "execution_count": 28,
   "id": "tough-theorem",
   "metadata": {},
   "outputs": [],
   "source": [
    "reactors.iloc[48]['Year']='1976'"
   ]
  },
  {
   "cell_type": "code",
   "execution_count": 29,
   "id": "significant-offset",
   "metadata": {},
   "outputs": [],
   "source": [
    "reactors.iloc[48]['Unit']='MWe'"
   ]
  },
  {
   "cell_type": "code",
   "execution_count": 30,
   "id": "measured-scholar",
   "metadata": {
    "scrolled": true
   },
   "outputs": [
    {
     "data": {
      "text/html": [
       "<div>\n",
       "<style scoped>\n",
       "    .dataframe tbody tr th:only-of-type {\n",
       "        vertical-align: middle;\n",
       "    }\n",
       "\n",
       "    .dataframe tbody tr th {\n",
       "        vertical-align: top;\n",
       "    }\n",
       "\n",
       "    .dataframe thead th {\n",
       "        text-align: right;\n",
       "    }\n",
       "</style>\n",
       "<table border=\"1\" class=\"dataframe\">\n",
       "  <thead>\n",
       "    <tr style=\"text-align: right;\">\n",
       "      <th></th>\n",
       "      <th>Name</th>\n",
       "      <th>Name_link</th>\n",
       "      <th>Country</th>\n",
       "      <th>Status</th>\n",
       "      <th>Type</th>\n",
       "      <th>Owner</th>\n",
       "      <th>Operator</th>\n",
       "      <th>Connection</th>\n",
       "      <th>Year</th>\n",
       "      <th>Capacity number</th>\n",
       "      <th>Unit</th>\n",
       "    </tr>\n",
       "  </thead>\n",
       "  <tbody>\n",
       "    <tr>\n",
       "      <th>48</th>\n",
       "      <td>Bilibino 4</td>\n",
       "      <td>http://www.world-nuclear.org/reactor/default.a...</td>\n",
       "      <td>Russia</td>\n",
       "      <td>OPERABLE</td>\n",
       "      <td>Light Water Graphite Reactor</td>\n",
       "      <td>Joint Stock Company Concern Rosenergoatom</td>\n",
       "      <td>Joint Stock Company Concern Rosenergoatom</td>\n",
       "      <td>27 December 1976</td>\n",
       "      <td>1976</td>\n",
       "      <td>11</td>\n",
       "      <td>MWe</td>\n",
       "    </tr>\n",
       "    <tr>\n",
       "      <th>49</th>\n",
       "      <td>Blayais 1</td>\n",
       "      <td>http://www.world-nuclear.org/reactor/default.a...</td>\n",
       "      <td>France</td>\n",
       "      <td>OPERABLE</td>\n",
       "      <td>Pressurised Water Reactor</td>\n",
       "      <td>EDF</td>\n",
       "      <td>EDF</td>\n",
       "      <td>12 June 1981</td>\n",
       "      <td>1981</td>\n",
       "      <td>910</td>\n",
       "      <td>MWe</td>\n",
       "    </tr>\n",
       "  </tbody>\n",
       "</table>\n",
       "</div>"
      ],
      "text/plain": [
       "          Name                                          Name_link Country  \\\n",
       "48  Bilibino 4  http://www.world-nuclear.org/reactor/default.a...  Russia   \n",
       "49   Blayais 1  http://www.world-nuclear.org/reactor/default.a...  France   \n",
       "\n",
       "      Status                          Type  \\\n",
       "48  OPERABLE  Light Water Graphite Reactor   \n",
       "49  OPERABLE     Pressurised Water Reactor   \n",
       "\n",
       "                                        Owner  \\\n",
       "48  Joint Stock Company Concern Rosenergoatom   \n",
       "49                                        EDF   \n",
       "\n",
       "                                     Operator        Connection  Year  \\\n",
       "48  Joint Stock Company Concern Rosenergoatom  27 December 1976  1976   \n",
       "49                                        EDF      12 June 1981  1981   \n",
       "\n",
       "   Capacity number Unit  \n",
       "48              11  MWe  \n",
       "49             910  MWe  "
      ]
     },
     "execution_count": 30,
     "metadata": {},
     "output_type": "execute_result"
    }
   ],
   "source": [
    "reactors.loc[[48,49]]"
   ]
  },
  {
   "cell_type": "markdown",
   "id": "continent-indonesia",
   "metadata": {},
   "source": [
    "### Correcting entries with different spellings"
   ]
  },
  {
   "cell_type": "markdown",
   "id": "boxed-latitude",
   "metadata": {},
   "source": [
    "When looking at the values of *Country* we see that the United States appears two times, different by their spellings. We homogeneize spelling so summaries will be correct."
   ]
  },
  {
   "cell_type": "code",
   "execution_count": 31,
   "id": "municipal-purse",
   "metadata": {},
   "outputs": [
    {
     "data": {
      "text/plain": [
       "276    United States of America\n",
       "279    United States of America\n",
       "280    United States of America\n",
       "58     United States of America\n",
       "670    United States Of America\n",
       "136    United States Of America\n",
       "473    United States Of America\n",
       "468    United States Of America\n",
       "467    United States Of America\n",
       "466    United States Of America\n",
       "465    United States Of America\n",
       "460    United States Of America\n",
       "134    United States Of America\n",
       "138    United States Of America\n",
       "137    United States Of America\n",
       "475    United States Of America\n",
       "139    United States Of America\n",
       "140    United States Of America\n",
       "141    United States Of America\n",
       "441    United States Of America\n",
       "Name: Country, dtype: object"
      ]
     },
     "execution_count": 31,
     "metadata": {},
     "output_type": "execute_result"
    }
   ],
   "source": [
    "reactors['Country'].sort_values(ascending=False).head(20)"
   ]
  },
  {
   "cell_type": "code",
   "execution_count": 32,
   "id": "occupational-spray",
   "metadata": {},
   "outputs": [],
   "source": [
    "reactors.loc[[276,279,280,58]]['Country'] = 'United States Of America'"
   ]
  },
  {
   "cell_type": "code",
   "execution_count": 33,
   "id": "toxic-activity",
   "metadata": {
    "scrolled": false
   },
   "outputs": [
    {
     "data": {
      "text/plain": [
       "array(['Sweden', 'Russia', 'Kazakhstan', 'Spain', 'Brazil',\n",
       "       'United States Of America', 'Armenia', 'Argentina', 'Germany',\n",
       "       'United Arab Emirates', 'France', 'United Kingdom', 'Switzerland',\n",
       "       'Slovakia', 'United States of America', 'Netherlands', 'Belgium',\n",
       "       'Canada', 'Iran', 'Italy', 'China', 'Romania', 'Pakistan',\n",
       "       'Ukraine', 'Taiwan', 'Czech Republic', 'Japan', 'South Korea',\n",
       "       'Lithuania', 'India', 'Ukriane', 'South Africa', 'Bulgaria',\n",
       "       'Slovenia', 'Mexico', 'USA', 'Finland', 'Belarus', 'Hungary'],\n",
       "      dtype=object)"
      ]
     },
     "execution_count": 33,
     "metadata": {},
     "output_type": "execute_result"
    }
   ],
   "source": [
    "reactors['Country'].unique()"
   ]
  },
  {
   "cell_type": "code",
   "execution_count": 34,
   "id": "suitable-african",
   "metadata": {},
   "outputs": [
    {
     "data": {
      "text/html": [
       "<div>\n",
       "<style scoped>\n",
       "    .dataframe tbody tr th:only-of-type {\n",
       "        vertical-align: middle;\n",
       "    }\n",
       "\n",
       "    .dataframe tbody tr th {\n",
       "        vertical-align: top;\n",
       "    }\n",
       "\n",
       "    .dataframe thead th {\n",
       "        text-align: right;\n",
       "    }\n",
       "</style>\n",
       "<table border=\"1\" class=\"dataframe\">\n",
       "  <thead>\n",
       "    <tr style=\"text-align: right;\">\n",
       "      <th></th>\n",
       "      <th>Name</th>\n",
       "      <th>Name_link</th>\n",
       "      <th>Country</th>\n",
       "      <th>Status</th>\n",
       "      <th>Type</th>\n",
       "      <th>Owner</th>\n",
       "      <th>Operator</th>\n",
       "      <th>Connection</th>\n",
       "      <th>Year</th>\n",
       "      <th>Capacity number</th>\n",
       "      <th>Unit</th>\n",
       "    </tr>\n",
       "  </thead>\n",
       "  <tbody>\n",
       "    <tr>\n",
       "      <th>372</th>\n",
       "      <td>Lasalle 1</td>\n",
       "      <td>http://www.world-nuclear.org/reactor/default.a...</td>\n",
       "      <td>USA</td>\n",
       "      <td>OPERABLE</td>\n",
       "      <td>Boiling Water Reactor</td>\n",
       "      <td>Exelon Corporation</td>\n",
       "      <td>Exelon Generation Co., Llc</td>\n",
       "      <td>4 September 1982</td>\n",
       "      <td>1982</td>\n",
       "      <td>1137</td>\n",
       "      <td>MWe</td>\n",
       "    </tr>\n",
       "    <tr>\n",
       "      <th>373</th>\n",
       "      <td>Lasalle 2</td>\n",
       "      <td>http://www.world-nuclear.org/reactor/default.a...</td>\n",
       "      <td>USA</td>\n",
       "      <td>OPERABLE</td>\n",
       "      <td>Boiling Water Reactor</td>\n",
       "      <td>Exelon Corporation</td>\n",
       "      <td>Exelon Generation Co., Llc</td>\n",
       "      <td>20 April 1984</td>\n",
       "      <td>1984</td>\n",
       "      <td>1140</td>\n",
       "      <td>MWe</td>\n",
       "    </tr>\n",
       "  </tbody>\n",
       "</table>\n",
       "</div>"
      ],
      "text/plain": [
       "          Name                                          Name_link Country  \\\n",
       "372  Lasalle 1  http://www.world-nuclear.org/reactor/default.a...     USA   \n",
       "373  Lasalle 2  http://www.world-nuclear.org/reactor/default.a...     USA   \n",
       "\n",
       "       Status                   Type               Owner  \\\n",
       "372  OPERABLE  Boiling Water Reactor  Exelon Corporation   \n",
       "373  OPERABLE  Boiling Water Reactor  Exelon Corporation   \n",
       "\n",
       "                       Operator        Connection  Year Capacity number Unit  \n",
       "372  Exelon Generation Co., Llc  4 September 1982  1982            1137  MWe  \n",
       "373  Exelon Generation Co., Llc     20 April 1984  1984            1140  MWe  "
      ]
     },
     "execution_count": 34,
     "metadata": {},
     "output_type": "execute_result"
    }
   ],
   "source": [
    "reactors.loc[reactors['Country']=='USA']"
   ]
  },
  {
   "cell_type": "code",
   "execution_count": 35,
   "id": "second-heather",
   "metadata": {},
   "outputs": [],
   "source": [
    "reactors.loc[[372,373]]['Country']='United States Of America'"
   ]
  },
  {
   "cell_type": "code",
   "execution_count": 36,
   "id": "pleasant-scholar",
   "metadata": {},
   "outputs": [
    {
     "data": {
      "text/plain": [
       "array(['Sweden', 'Russia', 'Kazakhstan', 'Spain', 'Brazil',\n",
       "       'United States Of America', 'Armenia', 'Argentina', 'Germany',\n",
       "       'United Arab Emirates', 'France', 'United Kingdom', 'Switzerland',\n",
       "       'Slovakia', 'United States of America', 'Netherlands', 'Belgium',\n",
       "       'Canada', 'Iran', 'Italy', 'China', 'Romania', 'Pakistan',\n",
       "       'Ukraine', 'Taiwan', 'Czech Republic', 'Japan', 'South Korea',\n",
       "       'Lithuania', 'India', 'Ukriane', 'South Africa', 'Bulgaria',\n",
       "       'Slovenia', 'Mexico', 'USA', 'Finland', 'Belarus', 'Hungary'],\n",
       "      dtype=object)"
      ]
     },
     "execution_count": 36,
     "metadata": {},
     "output_type": "execute_result"
    }
   ],
   "source": [
    "reactors['Country'].unique()"
   ]
  },
  {
   "cell_type": "code",
   "execution_count": 37,
   "id": "future-danish",
   "metadata": {},
   "outputs": [
    {
     "data": {
      "text/html": [
       "<div>\n",
       "<style scoped>\n",
       "    .dataframe tbody tr th:only-of-type {\n",
       "        vertical-align: middle;\n",
       "    }\n",
       "\n",
       "    .dataframe tbody tr th {\n",
       "        vertical-align: top;\n",
       "    }\n",
       "\n",
       "    .dataframe thead th {\n",
       "        text-align: right;\n",
       "    }\n",
       "</style>\n",
       "<table border=\"1\" class=\"dataframe\">\n",
       "  <thead>\n",
       "    <tr style=\"text-align: right;\">\n",
       "      <th></th>\n",
       "      <th>Name</th>\n",
       "      <th>Name_link</th>\n",
       "      <th>Country</th>\n",
       "      <th>Status</th>\n",
       "      <th>Type</th>\n",
       "      <th>Owner</th>\n",
       "      <th>Operator</th>\n",
       "      <th>Connection</th>\n",
       "      <th>Year</th>\n",
       "      <th>Capacity number</th>\n",
       "      <th>Unit</th>\n",
       "    </tr>\n",
       "  </thead>\n",
       "  <tbody>\n",
       "  </tbody>\n",
       "</table>\n",
       "</div>"
      ],
      "text/plain": [
       "Empty DataFrame\n",
       "Columns: [Name, Name_link, Country, Status, Type, Owner, Operator, Connection, Year, Capacity number, Unit]\n",
       "Index: []"
      ]
     },
     "execution_count": 37,
     "metadata": {},
     "output_type": "execute_result"
    }
   ],
   "source": [
    "reactors.loc[reactors['Capacity number'] == '-']"
   ]
  },
  {
   "cell_type": "markdown",
   "id": "successful-infection",
   "metadata": {},
   "source": [
    "## Converting GWe to MWe"
   ]
  },
  {
   "cell_type": "markdown",
   "id": "aquatic-flexibility",
   "metadata": {},
   "source": [
    "Data in the dataframe are stored as strings, so we need to convert to numeric before we attempt any arithmetic."
   ]
  },
  {
   "cell_type": "code",
   "execution_count": 38,
   "id": "logical-edward",
   "metadata": {},
   "outputs": [],
   "source": [
    "reactors['Capacity number'] = [x if y == 'MWe' else (1000.0 * pd.to_numeric(x)) for x,y in zip(reactors['Capacity number'],reactors['Unit'])]"
   ]
  },
  {
   "cell_type": "code",
   "execution_count": 39,
   "id": "studied-jacksonville",
   "metadata": {},
   "outputs": [
    {
     "data": {
      "text/plain": [
       "201    1600.0\n",
       "451    1600.0\n",
       "327       0.0\n",
       "Name: Capacity number, dtype: object"
      ]
     },
     "execution_count": 39,
     "metadata": {},
     "output_type": "execute_result"
    }
   ],
   "source": [
    "reactors['Capacity number'].iloc[[201,451,327]]"
   ]
  },
  {
   "cell_type": "code",
   "execution_count": 40,
   "id": "satisfied-supervision",
   "metadata": {},
   "outputs": [
    {
     "data": {
      "text/plain": [
       "39"
      ]
     },
     "execution_count": 40,
     "metadata": {},
     "output_type": "execute_result"
    }
   ],
   "source": [
    "reactors['Country'].nunique()"
   ]
  },
  {
   "cell_type": "code",
   "execution_count": 41,
   "id": "governing-world",
   "metadata": {
    "scrolled": false
   },
   "outputs": [
    {
     "data": {
      "text/plain": [
       "Country\n",
       "United States Of America    131\n",
       "France                       71\n",
       "Japan                        62\n",
       "China                        57\n",
       "Russia                       48\n",
       "United Kingdom               45\n",
       "Germany                      36\n",
       "South Korea                  28\n",
       "India                        27\n",
       "Canada                       25\n",
       "Name: Capacity number, dtype: int64"
      ]
     },
     "execution_count": 41,
     "metadata": {},
     "output_type": "execute_result"
    }
   ],
   "source": [
    "reactors_nr = reactors.groupby('Country')['Capacity number'].count().sort_values(ascending=False)[:10]\n",
    "reactors_nr"
   ]
  },
  {
   "cell_type": "code",
   "execution_count": 42,
   "id": "judicial-combining",
   "metadata": {},
   "outputs": [
    {
     "data": {
      "image/png": "[encoded data removed]",
      "text/plain": [
       "<Figure size 432x288 with 1 Axes>"
      ]
     },
     "metadata": {
      "needs_background": "light"
     },
     "output_type": "display_data"
    }
   ],
   "source": [
    "import matplotlib.pyplot as plt\n",
    "import seaborn as sns\n",
    "reactors_nr.plot(kind='bar')\n",
    "plt.show()"
   ]
  },
  {
   "cell_type": "code",
   "execution_count": null,
   "id": "hindu-groove",
   "metadata": {},
   "outputs": [],
   "source": []
  }
 ],
 "metadata": {
  "kernelspec": {
   "display_name": "Python 3",
   "language": "python",
   "name": "python3"
  },
  "language_info": {
   "codemirror_mode": {
    "name": "ipython",
    "version": 3
   },
   "file_extension": ".py",
   "mimetype": "text/x-python",
   "name": "python",
   "nbconvert_exporter": "python",
   "pygments_lexer": "ipython3",
   "version": "3.8.3"
  }
 },
 "nbformat": 4,
 "nbformat_minor": 5
}
