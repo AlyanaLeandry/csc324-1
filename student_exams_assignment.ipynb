{
 "cells": [
  {
   "cell_type": "code",
   "execution_count": null,
   "id": "celtic-technique",
   "metadata": {},
   "outputs": [],
   "source": []
  },
  {
   "cell_type": "markdown",
   "id": "embedded-blame",
   "metadata": {},
   "source": [
    "## Introduction\n",
    "\n",
    "To know which factor may affect the student's performance, we classify the score into couple of ranks, and figure out which feature affects the score more significant. The independent variables are follow:\n",
    "\n",
    "1. gender : sex of students\n",
    "2. race/ethnicity : ethnicity of students\n",
    "3. parental level of education : parents' final education\n",
    "4. lunch : having lunch before test (normal or abnormal)\n",
    "5. test preparation course : complete or not complete before test"
   ]
  },
  {
   "cell_type": "code",
   "execution_count": 1,
   "id": "affiliated-emergency",
   "metadata": {
    "_kg_hide-input": false,
    "_uuid": "67f4eb0b221d82a042603cf5ced2d9121ec55a79"
   },
   "outputs": [],
   "source": [
    "import seaborn as sns\n",
    "import matplotlib.pyplot as plt \n",
    "import os \n",
    "import pandas as pd \n",
    "import numpy as np\n",
    "from sklearn.preprocessing import LabelEncoder\n",
    "from sklearn.cluster import KMeans"
   ]
  },
  {
   "cell_type": "markdown",
   "id": "subsequent-isolation",
   "metadata": {},
   "source": [
    "Let's see how many datasets in this topic."
   ]
  },
  {
   "cell_type": "code",
   "execution_count": 2,
   "id": "declared-theory",
   "metadata": {},
   "outputs": [
    {
     "data": {
      "text/plain": [
       "['players_21.csv',\n",
       " 'csc324_midterm_exam_grade_processing.ipynb',\n",
       " 'reactors.ipynb',\n",
       " 'using_formatting_and_basic_formulas.mp4',\n",
       " 'Untitled.ipynb',\n",
       " 'matplotlib_examples.ipynb',\n",
       " 'file_encoding_inspecting_and_correcting_data.mp4',\n",
       " 'README.md',\n",
       " 'noaa_temp.csv',\n",
       " 'formulas_and_pivot_tables.mp4',\n",
       " 'exam_results.csv',\n",
       " 'student_exams.ipynb',\n",
       " 'reactors.csv',\n",
       " '.ipynb_checkpoints',\n",
       " '.git',\n",
       " 'reactors_test.ipynb',\n",
       " 'Data cleaning.ipynb']"
      ]
     },
     "execution_count": 2,
     "metadata": {},
     "output_type": "execute_result"
    }
   ],
   "source": [
    "os.listdir(\".\")"
   ]
  },
  {
   "cell_type": "markdown",
   "id": "canadian-highlight",
   "metadata": {
    "_uuid": "c9e96facc35f044491749d60e7994cc9848e9621"
   },
   "source": [
    "Only one! Take a look at the dataset.\n"
   ]
  },
  {
   "cell_type": "code",
   "execution_count": 3,
   "id": "instrumental-thesis",
   "metadata": {
    "_kg_hide-input": true,
    "_uuid": "da18ccc6cf02c0fbf13e219512f429f415bdeb0f"
   },
   "outputs": [
    {
     "data": {
      "text/html": [
       "<div>\n",
       "<style scoped>\n",
       "    .dataframe tbody tr th:only-of-type {\n",
       "        vertical-align: middle;\n",
       "    }\n",
       "\n",
       "    .dataframe tbody tr th {\n",
       "        vertical-align: top;\n",
       "    }\n",
       "\n",
       "    .dataframe thead th {\n",
       "        text-align: right;\n",
       "    }\n",
       "</style>\n",
       "<table border=\"1\" class=\"dataframe\">\n",
       "  <thead>\n",
       "    <tr style=\"text-align: right;\">\n",
       "      <th></th>\n",
       "      <th>gender</th>\n",
       "      <th>race/ethnicity</th>\n",
       "      <th>parental level of education</th>\n",
       "      <th>lunch</th>\n",
       "      <th>test preparation course</th>\n",
       "      <th>math score</th>\n",
       "      <th>reading score</th>\n",
       "      <th>writing score</th>\n",
       "    </tr>\n",
       "  </thead>\n",
       "  <tbody>\n",
       "    <tr>\n",
       "      <th>0</th>\n",
       "      <td>female</td>\n",
       "      <td>group B</td>\n",
       "      <td>bachelor's degree</td>\n",
       "      <td>standard</td>\n",
       "      <td>none</td>\n",
       "      <td>72</td>\n",
       "      <td>72</td>\n",
       "      <td>74</td>\n",
       "    </tr>\n",
       "    <tr>\n",
       "      <th>1</th>\n",
       "      <td>female</td>\n",
       "      <td>group C</td>\n",
       "      <td>some college</td>\n",
       "      <td>standard</td>\n",
       "      <td>completed</td>\n",
       "      <td>69</td>\n",
       "      <td>90</td>\n",
       "      <td>88</td>\n",
       "    </tr>\n",
       "    <tr>\n",
       "      <th>2</th>\n",
       "      <td>female</td>\n",
       "      <td>group B</td>\n",
       "      <td>master's degree</td>\n",
       "      <td>standard</td>\n",
       "      <td>none</td>\n",
       "      <td>90</td>\n",
       "      <td>95</td>\n",
       "      <td>93</td>\n",
       "    </tr>\n",
       "    <tr>\n",
       "      <th>3</th>\n",
       "      <td>male</td>\n",
       "      <td>group A</td>\n",
       "      <td>associate's degree</td>\n",
       "      <td>free/reduced</td>\n",
       "      <td>none</td>\n",
       "      <td>47</td>\n",
       "      <td>57</td>\n",
       "      <td>44</td>\n",
       "    </tr>\n",
       "    <tr>\n",
       "      <th>4</th>\n",
       "      <td>male</td>\n",
       "      <td>group C</td>\n",
       "      <td>some college</td>\n",
       "      <td>standard</td>\n",
       "      <td>none</td>\n",
       "      <td>76</td>\n",
       "      <td>78</td>\n",
       "      <td>75</td>\n",
       "    </tr>\n",
       "  </tbody>\n",
       "</table>\n",
       "</div>"
      ],
      "text/plain": [
       "   gender race/ethnicity parental level of education         lunch  \\\n",
       "0  female        group B           bachelor's degree      standard   \n",
       "1  female        group C                some college      standard   \n",
       "2  female        group B             master's degree      standard   \n",
       "3    male        group A          associate's degree  free/reduced   \n",
       "4    male        group C                some college      standard   \n",
       "\n",
       "  test preparation course  math score  reading score  writing score  \n",
       "0                    none          72             72             74  \n",
       "1               completed          69             90             88  \n",
       "2                    none          90             95             93  \n",
       "3                    none          47             57             44  \n",
       "4                    none          76             78             75  "
      ]
     },
     "execution_count": 3,
     "metadata": {},
     "output_type": "execute_result"
    }
   ],
   "source": [
    "filename = \"exam_results.csv\"\n",
    "score_df = pd.read_csv(filename)\n",
    "score_df.head()"
   ]
  },
  {
   "cell_type": "markdown",
   "id": "suffering-savage",
   "metadata": {
    "_uuid": "2f30aea7ac348b3a038ef7a309a2dede61ad677f"
   },
   "source": [
    "Some column names are too long, rename the column names to be simpler. "
   ]
  },
  {
   "cell_type": "code",
   "execution_count": 4,
   "id": "alternative-panic",
   "metadata": {
    "_kg_hide-input": true,
    "_uuid": "6c6104c26d8abb0104aac9b38ca1011e1d9cb544"
   },
   "outputs": [
    {
     "data": {
      "text/html": [
       "<div>\n",
       "<style scoped>\n",
       "    .dataframe tbody tr th:only-of-type {\n",
       "        vertical-align: middle;\n",
       "    }\n",
       "\n",
       "    .dataframe tbody tr th {\n",
       "        vertical-align: top;\n",
       "    }\n",
       "\n",
       "    .dataframe thead th {\n",
       "        text-align: right;\n",
       "    }\n",
       "</style>\n",
       "<table border=\"1\" class=\"dataframe\">\n",
       "  <thead>\n",
       "    <tr style=\"text-align: right;\">\n",
       "      <th></th>\n",
       "      <th>gender</th>\n",
       "      <th>ethnicity</th>\n",
       "      <th>parent_education</th>\n",
       "      <th>lunch</th>\n",
       "      <th>pre</th>\n",
       "      <th>math</th>\n",
       "      <th>reading</th>\n",
       "      <th>writing</th>\n",
       "    </tr>\n",
       "  </thead>\n",
       "  <tbody>\n",
       "    <tr>\n",
       "      <th>0</th>\n",
       "      <td>female</td>\n",
       "      <td>group B</td>\n",
       "      <td>bachelor's degree</td>\n",
       "      <td>standard</td>\n",
       "      <td>none</td>\n",
       "      <td>72</td>\n",
       "      <td>72</td>\n",
       "      <td>74</td>\n",
       "    </tr>\n",
       "    <tr>\n",
       "      <th>1</th>\n",
       "      <td>female</td>\n",
       "      <td>group C</td>\n",
       "      <td>some college</td>\n",
       "      <td>standard</td>\n",
       "      <td>completed</td>\n",
       "      <td>69</td>\n",
       "      <td>90</td>\n",
       "      <td>88</td>\n",
       "    </tr>\n",
       "    <tr>\n",
       "      <th>2</th>\n",
       "      <td>female</td>\n",
       "      <td>group B</td>\n",
       "      <td>master's degree</td>\n",
       "      <td>standard</td>\n",
       "      <td>none</td>\n",
       "      <td>90</td>\n",
       "      <td>95</td>\n",
       "      <td>93</td>\n",
       "    </tr>\n",
       "    <tr>\n",
       "      <th>3</th>\n",
       "      <td>male</td>\n",
       "      <td>group A</td>\n",
       "      <td>associate's degree</td>\n",
       "      <td>free/reduced</td>\n",
       "      <td>none</td>\n",
       "      <td>47</td>\n",
       "      <td>57</td>\n",
       "      <td>44</td>\n",
       "    </tr>\n",
       "    <tr>\n",
       "      <th>4</th>\n",
       "      <td>male</td>\n",
       "      <td>group C</td>\n",
       "      <td>some college</td>\n",
       "      <td>standard</td>\n",
       "      <td>none</td>\n",
       "      <td>76</td>\n",
       "      <td>78</td>\n",
       "      <td>75</td>\n",
       "    </tr>\n",
       "  </tbody>\n",
       "</table>\n",
       "</div>"
      ],
      "text/plain": [
       "   gender ethnicity    parent_education         lunch        pre  math  \\\n",
       "0  female   group B   bachelor's degree      standard       none    72   \n",
       "1  female   group C        some college      standard  completed    69   \n",
       "2  female   group B     master's degree      standard       none    90   \n",
       "3    male   group A  associate's degree  free/reduced       none    47   \n",
       "4    male   group C        some college      standard       none    76   \n",
       "\n",
       "   reading  writing  \n",
       "0       72       74  \n",
       "1       90       88  \n",
       "2       95       93  \n",
       "3       57       44  \n",
       "4       78       75  "
      ]
     },
     "execution_count": 4,
     "metadata": {},
     "output_type": "execute_result"
    }
   ],
   "source": [
    "score_df.rename(columns={\"race/ethnicity\":\"ethnicity\",\"parental level of education\":\"parent_education\"\n",
    "                    ,\"math score\":\"math\",\"reading score\":\"reading\",\"writing score\":\"writing\",\n",
    "                    \"test preparation course\":\"pre\"},inplace=True)\n",
    "score_df.head()"
   ]
  },
  {
   "cell_type": "markdown",
   "id": "pediatric-miniature",
   "metadata": {},
   "source": [
    "Seems clearly. Check the data type."
   ]
  },
  {
   "cell_type": "code",
   "execution_count": 5,
   "id": "external-example",
   "metadata": {},
   "outputs": [
    {
     "data": {
      "text/plain": [
       "gender              object\n",
       "ethnicity           object\n",
       "parent_education    object\n",
       "lunch               object\n",
       "pre                 object\n",
       "math                 int64\n",
       "reading              int64\n",
       "writing              int64\n",
       "dtype: object"
      ]
     },
     "execution_count": 5,
     "metadata": {},
     "output_type": "execute_result"
    }
   ],
   "source": [
    "score_df.dtypes"
   ]
  },
  {
   "cell_type": "markdown",
   "id": "classified-powell",
   "metadata": {},
   "source": [
    "Plotting the average scores per gender. Use a Matplotlib Barplot"
   ]
  },
  {
   "cell_type": "markdown",
   "id": "metric-sandwich",
   "metadata": {},
   "source": [
    "Plot the average scores per category of \"lunch\" and \"pre\". Use a seaborn boxplot chart."
   ]
  },
  {
   "cell_type": "markdown",
   "id": "sufficient-engineering",
   "metadata": {},
   "source": []
  }
 ],
 "metadata": {
  "kernelspec": {
   "display_name": "Python 3",
   "language": "python",
   "name": "python3"
  },
  "language_info": {
   "codemirror_mode": {
    "name": "ipython",
    "version": 3
   },
   "file_extension": ".py",
   "mimetype": "text/x-python",
   "name": "python",
   "nbconvert_exporter": "python",
   "pygments_lexer": "ipython3",
   "version": "3.8.3"
  }
 },
 "nbformat": 4,
 "nbformat_minor": 5
}
